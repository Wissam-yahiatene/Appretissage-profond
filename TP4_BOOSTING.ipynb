{
 "cells": [
  {
   "cell_type": "code",
   "execution_count": 4,
   "id": "a0a2433b",
   "metadata": {},
   "outputs": [
    {
     "name": "stdout",
     "output_type": "stream",
     "text": [
      "0.915327564894932\n"
     ]
    }
   ],
   "source": [
    "#utilisation du classifieur Boosting\n",
    "\n",
    "from sklearn.datasets import load_digits\n",
    "from sklearn.ensemble import AdaBoostClassifier\n",
    "from sklearn.model_selection import train_test_split\n",
    "from sklearn import tree\n",
    "import numpy as np\n",
    "\n",
    "digits = load_digits()\n",
    "X, y = digits.data, digits.target\n",
    "X_train, X_test, y_train, y_test = train_test_split(X, y, test_size=0.90)\n",
    "# AdaBoost basé sur 200 arbres de décision\n",
    "clf =AdaBoostClassifier(base_estimator=tree.DecisionTreeClassifier(max_depth=5),\n",
    "n_estimators=200, learning_rate=2)\n",
    "clf.fit(X_train, y_train)\n",
    "accuracy = clf.score(X_test, y_test)\n",
    "print(accuracy)"
   ]
  },
  {
   "cell_type": "code",
   "execution_count": 5,
   "id": "79dea13f",
   "metadata": {},
   "outputs": [
    {
     "name": "stdout",
     "output_type": "stream",
     "text": [
      "0.657601977750309\n"
     ]
    }
   ],
   "source": [
    "#max_depth nul\n",
    "clf =AdaBoostClassifier(base_estimator=tree.DecisionTreeClassifier(),\n",
    "n_estimators=200, learning_rate=2)\n",
    "clf.fit(X_train, y_train)\n",
    "accuracy = clf.score(X_test, y_test)\n",
    "print(accuracy)"
   ]
  },
  {
   "cell_type": "code",
   "execution_count": 6,
   "id": "ae19dc97",
   "metadata": {},
   "outputs": [
    {
     "name": "stdout",
     "output_type": "stream",
     "text": [
      "0.7503090234857849\n"
     ]
    }
   ],
   "source": [
    "#max_depth faible\n",
    "clf =AdaBoostClassifier(base_estimator=tree.DecisionTreeClassifier(max_depth=1),\n",
    "n_estimators=200, learning_rate=2)\n",
    "clf.fit(X_train, y_train)\n",
    "accuracy = clf.score(X_test, y_test)\n",
    "print(accuracy)"
   ]
  },
  {
   "cell_type": "code",
   "execution_count": 8,
   "id": "81919ec8",
   "metadata": {},
   "outputs": [
    {
     "name": "stdout",
     "output_type": "stream",
     "text": [
      "0.6804697156983931\n"
     ]
    }
   ],
   "source": [
    "#max_depth élevé\n",
    "clf =AdaBoostClassifier(base_estimator=tree.DecisionTreeClassifier(max_depth=8),\n",
    "n_estimators=200, learning_rate=2)\n",
    "clf.fit(X_train, y_train)\n",
    "accuracy = clf.score(X_test, y_test)\n",
    "print(accuracy)"
   ]
  },
  {
   "cell_type": "code",
   "execution_count": 10,
   "id": "e5c596a9",
   "metadata": {},
   "outputs": [
    {
     "name": "stdout",
     "output_type": "stream",
     "text": [
      "0.676761433868974\n"
     ]
    }
   ],
   "source": [
    "#max_depth élevé\n",
    "clf =AdaBoostClassifier(base_estimator=tree.DecisionTreeClassifier(max_depth=15),\n",
    "n_estimators=200, learning_rate=2)\n",
    "clf.fit(X_train, y_train)\n",
    "accuracy = clf.score(X_test, y_test)\n",
    "print(accuracy)"
   ]
  },
  {
   "cell_type": "code",
   "execution_count": 11,
   "id": "3eb5b9e9",
   "metadata": {},
   "outputs": [
    {
     "name": "stdout",
     "output_type": "stream",
     "text": [
      "0.896168108776267\n"
     ]
    }
   ],
   "source": [
    "#learning_rate faible\n",
    "clf =AdaBoostClassifier(base_estimator=tree.DecisionTreeClassifier(max_depth=5),\n",
    "n_estimators=200, learning_rate=1)\n",
    "clf.fit(X_train, y_train)\n",
    "accuracy = clf.score(X_test, y_test)\n",
    "print(accuracy)"
   ]
  },
  {
   "cell_type": "code",
   "execution_count": 12,
   "id": "04fe4464",
   "metadata": {},
   "outputs": [
    {
     "name": "stdout",
     "output_type": "stream",
     "text": [
      "0.8597033374536465\n"
     ]
    }
   ],
   "source": [
    "#learning_rate élevé\n",
    "clf =AdaBoostClassifier(base_estimator=tree.DecisionTreeClassifier(max_depth=5),\n",
    "n_estimators=200, learning_rate=5)\n",
    "clf.fit(X_train, y_train)\n",
    "accuracy = clf.score(X_test, y_test)\n",
    "print(accuracy)"
   ]
  },
  {
   "cell_type": "code",
   "execution_count": 13,
   "id": "69e981ee",
   "metadata": {},
   "outputs": [
    {
     "name": "stdout",
     "output_type": "stream",
     "text": [
      "0.9017305315203955\n"
     ]
    }
   ],
   "source": [
    "#learning_rate nul\n",
    "clf =AdaBoostClassifier(base_estimator=tree.DecisionTreeClassifier(max_depth=5),\n",
    "n_estimators=200)\n",
    "clf.fit(X_train, y_train)\n",
    "accuracy = clf.score(X_test, y_test)\n",
    "print(accuracy)"
   ]
  },
  {
   "cell_type": "code",
   "execution_count": 17,
   "id": "dc09bcef",
   "metadata": {},
   "outputs": [
    {
     "name": "stdout",
     "output_type": "stream",
     "text": [
      "0.7453646477132262\n"
     ]
    }
   ],
   "source": [
    "#n_estimators faible\n",
    "clf =AdaBoostClassifier(base_estimator=tree.DecisionTreeClassifier(max_depth=5),\n",
    "n_estimators=10, learning_rate=2)\n",
    "clf.fit(X_train, y_train)\n",
    "accuracy = clf.score(X_test, y_test)\n",
    "print(accuracy)"
   ]
  },
  {
   "cell_type": "code",
   "execution_count": 14,
   "id": "cfb19315",
   "metadata": {},
   "outputs": [
    {
     "name": "stdout",
     "output_type": "stream",
     "text": [
      "0.8572311495673671\n"
     ]
    }
   ],
   "source": [
    "#n_estimators faible\n",
    "clf =AdaBoostClassifier(base_estimator=tree.DecisionTreeClassifier(max_depth=5),\n",
    "n_estimators=50, learning_rate=2)\n",
    "clf.fit(X_train, y_train)\n",
    "accuracy = clf.score(X_test, y_test)\n",
    "print(accuracy)"
   ]
  },
  {
   "cell_type": "code",
   "execution_count": 15,
   "id": "7d78c5a5",
   "metadata": {},
   "outputs": [
    {
     "name": "stdout",
     "output_type": "stream",
     "text": [
      "0.9085290482076638\n"
     ]
    }
   ],
   "source": [
    "#n_estimators élevé\n",
    "clf =AdaBoostClassifier(base_estimator=tree.DecisionTreeClassifier(max_depth=5),\n",
    "n_estimators=300, learning_rate=2)\n",
    "clf.fit(X_train, y_train)\n",
    "accuracy = clf.score(X_test, y_test)\n",
    "print(accuracy)"
   ]
  },
  {
   "cell_type": "code",
   "execution_count": 16,
   "id": "fffdcd76",
   "metadata": {},
   "outputs": [
    {
     "name": "stdout",
     "output_type": "stream",
     "text": [
      "0.9103831891223733\n"
     ]
    }
   ],
   "source": [
    "clf =AdaBoostClassifier(base_estimator=tree.DecisionTreeClassifier(max_depth=5),\n",
    "n_estimators=600, learning_rate=2)\n",
    "clf.fit(X_train, y_train)\n",
    "accuracy = clf.score(X_test, y_test)\n",
    "print(accuracy)"
   ]
  },
  {
   "cell_type": "code",
   "execution_count": null,
   "id": "d9e50274",
   "metadata": {},
   "outputs": [],
   "source": []
  }
 ],
 "metadata": {
  "kernelspec": {
   "display_name": "Python 3 (ipykernel)",
   "language": "python",
   "name": "python3"
  },
  "language_info": {
   "codemirror_mode": {
    "name": "ipython",
    "version": 3
   },
   "file_extension": ".py",
   "mimetype": "text/x-python",
   "name": "python",
   "nbconvert_exporter": "python",
   "pygments_lexer": "ipython3",
   "version": "3.9.12"
  }
 },
 "nbformat": 4,
 "nbformat_minor": 5
}
