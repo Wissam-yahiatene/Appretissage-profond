{
 "cells": [
  {
   "cell_type": "code",
   "execution_count": 2,
   "id": "0bf317c8",
   "metadata": {},
   "outputs": [],
   "source": [
    "#afficher le jeu de données\n",
    "import numpy as np\n",
    "import matplotlib.pyplot as plt\n",
    "X=np.array([[0,0],[0,1]])\n",
    "y=np.array([0,1])"
   ]
  },
  {
   "cell_type": "code",
   "execution_count": 14,
   "id": "74e102ce",
   "metadata": {},
   "outputs": [
    {
     "data": {
      "text/plain": [
       "<matplotlib.collections.PathCollection at 0x7fcbb86e08e0>"
      ]
     },
     "execution_count": 14,
     "metadata": {},
     "output_type": "execute_result"
    },
    {
     "data": {
      "image/png": "[encoded data removed]",
      "text/plain": [
       "<Figure size 216x216 with 1 Axes>"
      ]
     },
     "metadata": {
      "needs_background": "light"
     },
     "output_type": "display_data"
    }
   ],
   "source": [
    "x1=[0,0]\n",
    "x2=[0,1]\n",
    "plt.figure(figsize=(3, 3))\n",
    "plt.xlabel(\"x1\")\n",
    "plt.ylabel(\"x2\")\n",
    "plt.scatter(x1, x2, c = y)"
   ]
  },
  {
   "cell_type": "code",
   "execution_count": 12,
   "id": "13a723aa",
   "metadata": {},
   "outputs": [],
   "source": [
    "#importer le classifieur MLP\n",
    "from sklearn.neural_network import MLPClassifier\n",
    "clf = MLPClassifier(hidden_layer_sizes=(4), random_state=0)"
   ]
  },
  {
   "cell_type": "code",
   "execution_count": 18,
   "id": "0397fc8e",
   "metadata": {},
   "outputs": [
    {
     "name": "stderr",
     "output_type": "stream",
     "text": [
      "/home/wissam/anaconda3/lib/python3.9/site-packages/sklearn/neural_network/_multilayer_perceptron.py:692: ConvergenceWarning: Stochastic Optimizer: Maximum iterations (200) reached and the optimization hasn't converged yet.\n",
      "  warnings.warn(\n"
     ]
    },
    {
     "data": {
      "text/plain": [
       "MLPClassifier(hidden_layer_sizes=4, random_state=0)"
      ]
     },
     "execution_count": 18,
     "metadata": {},
     "output_type": "execute_result"
    }
   ],
   "source": [
    "#entrainer le modèle\n",
    "clf.fit(X,y)"
   ]
  },
  {
   "cell_type": "code",
   "execution_count": 19,
   "id": "4ba2859f",
   "metadata": {},
   "outputs": [
    {
     "data": {
      "text/plain": [
       "array([1, 0])"
      ]
     },
     "execution_count": 19,
     "metadata": {},
     "output_type": "execute_result"
    }
   ],
   "source": [
    "#test\n",
    "val_test= np.array([[2.,2.],[-1.,-2.]])\n",
    "clf.predict(val_test)"
   ]
  },
  {
   "cell_type": "code",
   "execution_count": 20,
   "id": "d56f0239",
   "metadata": {},
   "outputs": [
    {
     "data": {
      "text/plain": [
       "0.5"
      ]
     },
     "execution_count": 20,
     "metadata": {},
     "output_type": "execute_result"
    }
   ],
   "source": [
    "#afficher le score\n",
    "clf.score(X,y)"
   ]
  },
  {
   "cell_type": "code",
   "execution_count": 11,
   "id": "3f0bd37d",
   "metadata": {},
   "outputs": [
    {
     "data": {
      "text/plain": [
       "[array([[ 1.40189095e-03,  2.51687364e-01,  5.41845557e-02,\n",
       "          5.79678815e-04],\n",
       "        [ 6.62768895e-02,  4.86921079e-01, -3.04906881e-01,\n",
       "          6.06259463e-01]]),\n",
       " array([[ 0.33959501],\n",
       "        [ 1.18905791],\n",
       "        [-0.84729469],\n",
       "        [-0.73983565]])]"
      ]
     },
     "execution_count": 11,
     "metadata": {},
     "output_type": "execute_result"
    }
   ],
   "source": [
    "#affichage des coefficients\n",
    "clf.coefs_"
   ]
  },
  {
   "cell_type": "code",
   "execution_count": 12,
   "id": "e7f25705",
   "metadata": {},
   "outputs": [
    {
     "data": {
      "text/plain": [
       "[array([ 1.13033621, -0.03798289,  0.41832856, -0.13406003]),\n",
       " array([-0.88093148])]"
      ]
     },
     "execution_count": 12,
     "metadata": {},
     "output_type": "execute_result"
    }
   ],
   "source": [
    "#affichage des valeurs du biais\n",
    "clf.intercepts_"
   ]
  },
  {
   "cell_type": "code",
   "execution_count": 13,
   "id": "65b9e8f8",
   "metadata": {},
   "outputs": [],
   "source": [
    "#question 3\n",
    "X1=np.array([[0,0],[0,1],[1,1],[1,0]])\n",
    "y1=np.array([0,1,0,1])\n",
    "clf1 = MLPClassifier(hidden_layer_sizes=(4), random_state=0)\n"
   ]
  },
  {
   "cell_type": "code",
   "execution_count": 14,
   "id": "c35ff805",
   "metadata": {},
   "outputs": [
    {
     "name": "stderr",
     "output_type": "stream",
     "text": [
      "/home/wissam/anaconda3/lib/python3.9/site-packages/sklearn/neural_network/_multilayer_perceptron.py:692: ConvergenceWarning: Stochastic Optimizer: Maximum iterations (200) reached and the optimization hasn't converged yet.\n",
      "  warnings.warn(\n"
     ]
    },
    {
     "data": {
      "text/plain": [
       "MLPClassifier(hidden_layer_sizes=4, random_state=0)"
      ]
     },
     "execution_count": 14,
     "metadata": {},
     "output_type": "execute_result"
    }
   ],
   "source": [
    "clf1.fit(X1,y1)"
   ]
  },
  {
   "cell_type": "code",
   "execution_count": 61,
   "id": "49d8ceee",
   "metadata": {},
   "outputs": [
    {
     "data": {
      "text/plain": [
       "array([0, 0, 0, 0])"
      ]
     },
     "execution_count": 61,
     "metadata": {},
     "output_type": "execute_result"
    }
   ],
   "source": [
    "clf1.predict(X1)"
   ]
  },
  {
   "cell_type": "code",
   "execution_count": 15,
   "id": "6e93cbca",
   "metadata": {},
   "outputs": [
    {
     "data": {
      "text/plain": [
       "[array([[ 0.26314338,  0.57573352,  0.07117176,  0.07249203],\n",
       "        [ 0.02739725,  0.4500591 , -0.27083177,  0.63753613]]),\n",
       " array([[ 0.31951178],\n",
       "        [ 1.12057202],\n",
       "        [-0.80302882],\n",
       "        [-0.77690184]])]"
      ]
     },
     "execution_count": 15,
     "metadata": {},
     "output_type": "execute_result"
    }
   ],
   "source": [
    "clf1.coefs_"
   ]
  },
  {
   "cell_type": "code",
   "execution_count": 16,
   "id": "7d16b5bf",
   "metadata": {},
   "outputs": [
    {
     "data": {
      "text/plain": [
       "[array([ 1.11629223, -0.05512119,  0.430426  , -0.07263691]),\n",
       " array([-0.89218016])]"
      ]
     },
     "execution_count": 16,
     "metadata": {},
     "output_type": "execute_result"
    }
   ],
   "source": [
    "clf1.intercepts_"
   ]
  },
  {
   "cell_type": "code",
   "execution_count": 21,
   "id": "b5baace2",
   "metadata": {},
   "outputs": [],
   "source": [
    "#question 4\n",
    "X=np.array([[0,0],[1,1]])\n",
    "y=np.array([[0,1],[1,1]])\n"
   ]
  },
  {
   "cell_type": "code",
   "execution_count": 23,
   "id": "4b5cb46f",
   "metadata": {},
   "outputs": [
    {
     "data": {
      "text/plain": [
       "array([[0, 0],\n",
       "       [1, 1]])"
      ]
     },
     "execution_count": 23,
     "metadata": {},
     "output_type": "execute_result"
    }
   ],
   "source": [
    "X"
   ]
  },
  {
   "cell_type": "code",
   "execution_count": 24,
   "id": "66a86366",
   "metadata": {},
   "outputs": [
    {
     "data": {
      "text/plain": [
       "array([[0, 1],\n",
       "       [1, 1]])"
      ]
     },
     "execution_count": 24,
     "metadata": {},
     "output_type": "execute_result"
    }
   ],
   "source": [
    "y"
   ]
  },
  {
   "cell_type": "code",
   "execution_count": 68,
   "id": "096c3b9d",
   "metadata": {},
   "outputs": [
    {
     "name": "stderr",
     "output_type": "stream",
     "text": [
      "/home/etudiant/anaconda3/lib/python3.9/site-packages/sklearn/neural_network/_multilayer_perceptron.py:692: ConvergenceWarning: Stochastic Optimizer: Maximum iterations (200) reached and the optimization hasn't converged yet.\n",
      "  warnings.warn(\n"
     ]
    },
    {
     "data": {
      "text/plain": [
       "MLPClassifier(hidden_layer_sizes=4, random_state=0)"
      ]
     },
     "execution_count": 68,
     "metadata": {},
     "output_type": "execute_result"
    }
   ],
   "source": [
    "clf = MLPClassifier(hidden_layer_sizes=(4), random_state=0)\n",
    "clf.fit(X,y)"
   ]
  },
  {
   "cell_type": "code",
   "execution_count": 69,
   "id": "7ba065ad",
   "metadata": {},
   "outputs": [
    {
     "data": {
      "text/plain": [
       "1.0"
      ]
     },
     "execution_count": 69,
     "metadata": {},
     "output_type": "execute_result"
    }
   ],
   "source": [
    "clf.score(X,y)"
   ]
  },
  {
   "cell_type": "code",
   "execution_count": 70,
   "id": "f2f39a70",
   "metadata": {},
   "outputs": [
    {
     "data": {
      "text/plain": [
       "array([[0, 1],\n",
       "       [1, 1]])"
      ]
     },
     "execution_count": 70,
     "metadata": {},
     "output_type": "execute_result"
    }
   ],
   "source": [
    "clf.predict(X)"
   ]
  },
  {
   "cell_type": "code",
   "execution_count": null,
   "id": "36ceb2a7",
   "metadata": {},
   "outputs": [],
   "source": []
  }
 ],
 "metadata": {
  "kernelspec": {
   "display_name": "Python 3 (ipykernel)",
   "language": "python",
   "name": "python3"
  },
  "language_info": {
   "codemirror_mode": {
    "name": "ipython",
    "version": 3
   },
   "file_extension": ".py",
   "mimetype": "text/x-python",
   "name": "python",
   "nbconvert_exporter": "python",
   "pygments_lexer": "ipython3",
   "version": "3.9.12"
  }
 },
 "nbformat": 4,
 "nbformat_minor": 5
}
